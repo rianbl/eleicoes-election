{
 "cells": [
  {
   "cell_type": "code",
   "execution_count": null,
   "metadata": {},
   "outputs": [],
   "source": [
    "# The election data can be found at https://www.tse.jus.br/eleicoes/estatisticas/repositorio-de-dados-eleitorais-1\n",
    "# And scrictily the data used to predict mayor elections was https://cdn.tse.jus.br/estatistica/sead/odsele/consulta_cand/consulta_cand_2020.zip\n",
    "\n",
    "# Data consist of informations about candidates for the 2020 citywide elections. \n"
   ]
  },
  {
   "cell_type": "code",
   "execution_count": null,
   "metadata": {},
   "outputs": [],
   "source": [
    "#Import packages\n",
    "import wget\n",
    "import pandas as pd\n",
    "import numpy as np\n",
    "import matplotlib.pyplot as plt\n",
    "import seaborn as sns\n",
    "from zipfile import ZipFile\n",
    "from sklearn.preprocessing import LabelEncoder\n",
    "from sklearn.preprocessing import MinMaxScaler\n",
    "from lazypredict.Supervised import LazyClassifier\n",
    "from sklearn.model_selection import train_test_split\n",
    "from sklearn.metrics import roc_auc_score\n",
    "from sklearn.metrics import balanced_accuracy_score\n",
    "from sklearn.linear_model import PassiveAggressiveClassifier"
   ]
  },
  {
   "cell_type": "code",
   "execution_count": null,
   "metadata": {},
   "outputs": [],
   "source": [
    "######IMPORTING DATA\n",
    "\n",
    "wget.download('https://cdn.tse.jus.br/estatistica/sead/odsele/consulta_cand/consulta_cand_2020.zip')\n",
    "\n",
    "ZipFile('consulta_cand_2020.zip','r').extractall('consulta_cand_2020')\n",
    "\n",
    "eleicao2020 = pd.read_csv(r'C:\\Users\\rian.lopes\\analise\\eleicoes\\consulta_cand_2020\\consulta_cand_2020_BRASIL.csv', engine = 'python',sep=';',decimal=',')\n",
    "\n",
    "#Check the data\n",
    "head = eleicao2020.head()"
   ]
  },
  {
   "cell_type": "code",
   "execution_count": null,
   "metadata": {},
   "outputs": [],
   "source": [
    "# SELECTING ONLY MAYOR POSTS. EXECUTIVE ELECTIONS USE MAJORITY SYSTEM OF VOTES WHICH MAKES THE PREDICTION EASIER SINCE \n",
    "# THERE'S ONLY TWO STATES \"ELECTED, NOT ELECTED\"\n",
    "\n",
    "eleicao2020 = eleicao2020[eleicao2020.DS_CARGO  == 'PREFEITO']\n",
    "\n",
    "\n",
    "eleicao2020 = eleicao2020.loc[eleicao2020['DS_SIT_TOT_TURNO'].isin(['ELEITO','NÃO ELEITO'])]"
   ]
  },
  {
   "cell_type": "code",
   "execution_count": null,
   "metadata": {},
   "outputs": [],
   "source": [
    "#SELECTING ONLY FEW FEATURES WHICH INCLUDES CAMPAING BUDGET, NUMBER OF THE PARTY, IF IT WAS REELECTION OR NOT E ETC\n",
    "\n",
    "cols = ['NR_CANDIDATO','NM_UE','TP_AGREMIACAO','DS_COMPOSICAO_COLIGACAO','VR_DESPESA_MAX_CAMPANHA','ST_REELEICAO']\n",
    "\n",
    "df = eleicao2020.loc[:,cols]"
   ]
  },
  {
   "cell_type": "code",
   "execution_count": null,
   "metadata": {},
   "outputs": [],
   "source": [
    "#CREATING THE RESPONSE VARABLE\n",
    "\n",
    "df_base = df.copy()\n",
    "df_base['RESULTADOS'] = eleicao2020.DS_SIT_TOT_TURNO.reset_index(drop=True)\n",
    "df_base.to_csv('eleicoes_DB')\n"
   ]
  },
  {
   "cell_type": "code",
   "execution_count": null,
   "metadata": {},
   "outputs": [],
   "source": [
    "#CREATING LABELS FOR OBJECT TYPE COLUMNS\n",
    "\n",
    "df1 = df.copy()\n",
    "\n",
    "le = LabelEncoder()\n",
    "\n",
    "for col in df1.columns:    \n",
    "    if(df1[col].dtype == np.object):\n",
    "        le.fit(df1[col].unique())\n",
    "        df1[col] = le.transform(df1[col])\n"
   ]
  },
  {
   "cell_type": "code",
   "execution_count": null,
   "metadata": {},
   "outputs": [],
   "source": [
    "#APPLYING STANDARDIZATION TO THE DATA. MIN MAX WAS USED\n",
    "\n",
    "padr = MinMaxScaler()\n",
    "\n",
    "df1 = pd.DataFrame(padr.fit_transform(df1))\n",
    "\n",
    "df1.columns = df.columns\n",
    "\n",
    "df1['RESULTADOS'] = eleicao2020.DS_SIT_TOT_TURNO.reset_index(drop=True)\n",
    "\n",
    "df1['RESULTADOS'] = np.where(df1['RESULTADOS']=='ELEITO',1,0)"
   ]
  },
  {
   "cell_type": "code",
   "execution_count": null,
   "metadata": {},
   "outputs": [],
   "source": [
    "#SPLITTING DATA\n",
    "\n",
    "X_train, X_test, y_train, y_test = train_test_split(df1.iloc[:,df1.columns!='RESULTADOS'],\\\n",
    "                                                    df1['RESULTADOS'], test_size=0.3)"
   ]
  },
  {
   "cell_type": "code",
   "execution_count": null,
   "metadata": {},
   "outputs": [],
   "source": [
    "#TESTING SEVERAL CLASSIFIER ALGORITHMS\n",
    "\n",
    "reg = LazyClassifier(verbose=2, ignore_warnings=False, custom_metric=None, predictions=True)\n",
    "models, predictions = reg.fit(X_train, X_test, y_train, y_test)\n",
    "\n",
    "fig, ax = plt.subplots(figsize=(20,12))\n",
    "chart = sns.lineplot(y=models['Balanced Accuracy'],x=models.index)\n",
    "plt.xticks(rotation=45)"
   ]
  },
  {
   "cell_type": "code",
   "execution_count": null,
   "metadata": {},
   "outputs": [],
   "source": [
    "#TESTING INDIVIDUALLY ONE OF THE BESTS\n",
    "\n",
    "model = PassiveAggressiveClassifier(C=0.001, class_weight='balanced',\\\n",
    "                            n_iter_no_change=20, tol=1e-03)\n",
    "\n",
    "from sklearn.model_selection import cross_validate\n",
    "cv_result = cross_validate(model, df1.iloc[:,df1.columns!='RESULTADOS'], df1['RESULTADOS'], cv=2,scoring=('balanced_accuracy'))\n",
    "\n",
    "PRINT(cv_result['test_score'])\n",
    "\n"
   ]
  }
 ],
 "metadata": {
  "kernelspec": {
   "display_name": "Python 3",
   "language": "python",
   "name": "python3"
  },
  "language_info": {
   "codemirror_mode": {
    "name": "ipython",
    "version": 3
   },
   "file_extension": ".py",
   "mimetype": "text/x-python",
   "name": "python",
   "nbconvert_exporter": "python",
   "pygments_lexer": "ipython3",
   "version": "3.7.3"
  }
 },
 "nbformat": 4,
 "nbformat_minor": 2
}
